{
  "nbformat": 4,
  "nbformat_minor": 0,
  "metadata": {
    "colab": {
      "name": "CSCI150 - NLP Model.ipynb",
      "provenance": [],
      "collapsed_sections": []
    },
    "kernelspec": {
      "name": "python3",
      "display_name": "Python 3"
    },
    "language_info": {
      "name": "python"
    }
  },
  "cells": [
    {
      "cell_type": "markdown",
      "metadata": {
        "id": "LXOGBebj4zE2"
      },
      "source": [
        "Colab Link: https://colab.research.google.com/drive/1VJwz2A1mdsRjSxZ9sihnilxI-0jBdXsM?usp=sharing"
      ]
    },
    {
      "cell_type": "code",
      "metadata": {
        "id": "vtIOEaMXwOaT"
      },
      "source": [
        "import sklearn\n",
        "import numpy as np"
      ],
      "execution_count": null,
      "outputs": []
    },
    {
      "cell_type": "code",
      "metadata": {
        "id": "LYMDWT5lzzjn"
      },
      "source": [
        "import pandas as pd"
      ],
      "execution_count": null,
      "outputs": []
    },
    {
      "cell_type": "markdown",
      "metadata": {
        "id": "UkmtAwl28cJy"
      },
      "source": [
        "# Loading data"
      ]
    },
    {
      "cell_type": "code",
      "metadata": {
        "colab": {
          "base_uri": "https://localhost:8080/"
        },
        "id": "NRVwvxbWzz70",
        "outputId": "d9e8f4c3-ba87-44bf-ddd8-056ed7a64aed"
      },
      "source": [
        "data = pd.read_csv('https://raw.githubusercontent.com/FS-CSCI150-F21/FS-CSCI150-F21-Team4/main/datasets/train.csv')\n",
        "data = data.drop(columns=['textID', 'selected_text'])\n",
        "print(data)"
      ],
      "execution_count": null,
      "outputs": [
        {
          "output_type": "stream",
          "name": "stdout",
          "text": [
            "                                                    text sentiment\n",
            "0                    I`d have responded, if I were going   neutral\n",
            "1          Sooo SAD I will miss you here in San Diego!!!  negative\n",
            "2                              my boss is bullying me...  negative\n",
            "3                         what interview! leave me alone  negative\n",
            "4       Sons of ****, why couldn`t they put them on t...  negative\n",
            "...                                                  ...       ...\n",
            "27476   wish we could come see u on Denver  husband l...  negative\n",
            "27477   I`ve wondered about rake to.  The client has ...  negative\n",
            "27478   Yay good for both of you. Enjoy the break - y...  positive\n",
            "27479                         But it was worth it  ****.  positive\n",
            "27480     All this flirting going on - The ATG smiles...   neutral\n",
            "\n",
            "[27481 rows x 2 columns]\n"
          ]
        }
      ]
    },
    {
      "cell_type": "code",
      "metadata": {
        "colab": {
          "base_uri": "https://localhost:8080/",
          "height": 173
        },
        "id": "-DaPAJRZ1Lpn",
        "outputId": "16124680-5b3a-412a-d0b5-d545e5bb458c"
      },
      "source": [
        "data.describe()"
      ],
      "execution_count": null,
      "outputs": [
        {
          "output_type": "execute_result",
          "data": {
            "text/html": [
              "<div>\n",
              "<style scoped>\n",
              "    .dataframe tbody tr th:only-of-type {\n",
              "        vertical-align: middle;\n",
              "    }\n",
              "\n",
              "    .dataframe tbody tr th {\n",
              "        vertical-align: top;\n",
              "    }\n",
              "\n",
              "    .dataframe thead th {\n",
              "        text-align: right;\n",
              "    }\n",
              "</style>\n",
              "<table border=\"1\" class=\"dataframe\">\n",
              "  <thead>\n",
              "    <tr style=\"text-align: right;\">\n",
              "      <th></th>\n",
              "      <th>text</th>\n",
              "      <th>sentiment</th>\n",
              "    </tr>\n",
              "  </thead>\n",
              "  <tbody>\n",
              "    <tr>\n",
              "      <th>count</th>\n",
              "      <td>27480</td>\n",
              "      <td>27481</td>\n",
              "    </tr>\n",
              "    <tr>\n",
              "      <th>unique</th>\n",
              "      <td>27480</td>\n",
              "      <td>3</td>\n",
              "    </tr>\n",
              "    <tr>\n",
              "      <th>top</th>\n",
              "      <td>Its over for them</td>\n",
              "      <td>neutral</td>\n",
              "    </tr>\n",
              "    <tr>\n",
              "      <th>freq</th>\n",
              "      <td>1</td>\n",
              "      <td>11118</td>\n",
              "    </tr>\n",
              "  </tbody>\n",
              "</table>\n",
              "</div>"
            ],
            "text/plain": [
              "                      text sentiment\n",
              "count                27480     27481\n",
              "unique               27480         3\n",
              "top      Its over for them   neutral\n",
              "freq                     1     11118"
            ]
          },
          "metadata": {},
          "execution_count": 4
        }
      ]
    },
    {
      "cell_type": "markdown",
      "metadata": {
        "id": "KHXAfFnJ8uIn"
      },
      "source": [
        "## Dropping any null values"
      ]
    },
    {
      "cell_type": "code",
      "metadata": {
        "colab": {
          "base_uri": "https://localhost:8080/",
          "height": 173
        },
        "id": "N0lC1jkj3Gcq",
        "outputId": "cd6c8c84-034b-4142-f977-7d2644c8db48"
      },
      "source": [
        "data = data.dropna()\n",
        "#data['sentiment'] = data['sentiment'].replace([\"negative\",\"neutral\", \"positive\"],[-1, 0, 1])\n",
        "data.describe()"
      ],
      "execution_count": null,
      "outputs": [
        {
          "output_type": "execute_result",
          "data": {
            "text/html": [
              "<div>\n",
              "<style scoped>\n",
              "    .dataframe tbody tr th:only-of-type {\n",
              "        vertical-align: middle;\n",
              "    }\n",
              "\n",
              "    .dataframe tbody tr th {\n",
              "        vertical-align: top;\n",
              "    }\n",
              "\n",
              "    .dataframe thead th {\n",
              "        text-align: right;\n",
              "    }\n",
              "</style>\n",
              "<table border=\"1\" class=\"dataframe\">\n",
              "  <thead>\n",
              "    <tr style=\"text-align: right;\">\n",
              "      <th></th>\n",
              "      <th>text</th>\n",
              "      <th>sentiment</th>\n",
              "    </tr>\n",
              "  </thead>\n",
              "  <tbody>\n",
              "    <tr>\n",
              "      <th>count</th>\n",
              "      <td>27480</td>\n",
              "      <td>27480</td>\n",
              "    </tr>\n",
              "    <tr>\n",
              "      <th>unique</th>\n",
              "      <td>27480</td>\n",
              "      <td>3</td>\n",
              "    </tr>\n",
              "    <tr>\n",
              "      <th>top</th>\n",
              "      <td>Its over for them</td>\n",
              "      <td>neutral</td>\n",
              "    </tr>\n",
              "    <tr>\n",
              "      <th>freq</th>\n",
              "      <td>1</td>\n",
              "      <td>11117</td>\n",
              "    </tr>\n",
              "  </tbody>\n",
              "</table>\n",
              "</div>"
            ],
            "text/plain": [
              "                      text sentiment\n",
              "count                27480     27480\n",
              "unique               27480         3\n",
              "top      Its over for them   neutral\n",
              "freq                     1     11117"
            ]
          },
          "metadata": {},
          "execution_count": 5
        }
      ]
    },
    {
      "cell_type": "code",
      "metadata": {
        "colab": {
          "base_uri": "https://localhost:8080/"
        },
        "id": "fLEA1ax71NlV",
        "outputId": "ab13c8cd-85ce-4a9e-b4d8-02a6cad75509"
      },
      "source": [
        "training_data = data\n",
        "print(training_data)"
      ],
      "execution_count": null,
      "outputs": [
        {
          "output_type": "stream",
          "name": "stdout",
          "text": [
            "                                                    text sentiment\n",
            "0                    I`d have responded, if I were going   neutral\n",
            "1          Sooo SAD I will miss you here in San Diego!!!  negative\n",
            "2                              my boss is bullying me...  negative\n",
            "3                         what interview! leave me alone  negative\n",
            "4       Sons of ****, why couldn`t they put them on t...  negative\n",
            "...                                                  ...       ...\n",
            "27476   wish we could come see u on Denver  husband l...  negative\n",
            "27477   I`ve wondered about rake to.  The client has ...  negative\n",
            "27478   Yay good for both of you. Enjoy the break - y...  positive\n",
            "27479                         But it was worth it  ****.  positive\n",
            "27480     All this flirting going on - The ATG smiles...   neutral\n",
            "\n",
            "[27480 rows x 2 columns]\n"
          ]
        }
      ]
    },
    {
      "cell_type": "markdown",
      "metadata": {
        "id": "kZ_RsOHz8w8R"
      },
      "source": [
        "# Transforming text data into tfidf value"
      ]
    },
    {
      "cell_type": "code",
      "metadata": {
        "colab": {
          "base_uri": "https://localhost:8080/"
        },
        "id": "mGw_BwBL18wX",
        "outputId": "4b1b2864-02a3-4505-e1b7-73a442e6628c"
      },
      "source": [
        "from sklearn.feature_extraction.text import CountVectorizer\n",
        "count_vect = CountVectorizer()\n",
        "X_train_counts = count_vect.fit_transform(training_data.text)\n",
        "X_train_counts.shape"
      ],
      "execution_count": null,
      "outputs": [
        {
          "output_type": "execute_result",
          "data": {
            "text/plain": [
              "(27480, 26439)"
            ]
          },
          "metadata": {},
          "execution_count": 7
        }
      ]
    },
    {
      "cell_type": "code",
      "metadata": {
        "colab": {
          "base_uri": "https://localhost:8080/"
        },
        "id": "ik1IeE5m5zgH",
        "outputId": "bbad356b-6468-4715-dbe6-98be6eb8a5d3"
      },
      "source": [
        "from sklearn.feature_extraction.text import TfidfTransformer\n",
        "tfidf_transformer = TfidfTransformer()\n",
        "X_train_tfidf = tfidf_transformer.fit_transform(X_train_counts)\n",
        "X_train_tfidf.shape"
      ],
      "execution_count": null,
      "outputs": [
        {
          "output_type": "execute_result",
          "data": {
            "text/plain": [
              "(27480, 26439)"
            ]
          },
          "metadata": {},
          "execution_count": 8
        }
      ]
    },
    {
      "cell_type": "markdown",
      "metadata": {
        "id": "kRRNZSoM83Mo"
      },
      "source": [
        "# Fitting training data to Naive Bayes Model (temporary)"
      ]
    },
    {
      "cell_type": "code",
      "metadata": {
        "id": "Hq6Nqm2g6Fq0"
      },
      "source": [
        "from sklearn.naive_bayes import MultinomialNB\n",
        "clf = MultinomialNB().fit(X_train_tfidf, training_data['sentiment'])"
      ],
      "execution_count": null,
      "outputs": []
    },
    {
      "cell_type": "code",
      "metadata": {
        "id": "BXasXiMw6Rd4"
      },
      "source": [
        "from sklearn.pipeline import Pipeline\n",
        "text_clf = Pipeline([\n",
        "  ('vect', CountVectorizer()),\n",
        "  ('tf', TfidfTransformer()),\n",
        "  ('clf', MultinomialNB()),\n",
        "])"
      ],
      "execution_count": null,
      "outputs": []
    },
    {
      "cell_type": "markdown",
      "metadata": {
        "id": "jFPtKsFS_gv4"
      },
      "source": [
        "## Using pipeline to transform data then train"
      ]
    },
    {
      "cell_type": "code",
      "metadata": {
        "colab": {
          "base_uri": "https://localhost:8080/"
        },
        "id": "8ZxUCnLs--SS",
        "outputId": "f1ce2527-0656-4622-903d-005ac0407440"
      },
      "source": [
        "text_clf.fit(training_data.text, training_data.sentiment)"
      ],
      "execution_count": null,
      "outputs": [
        {
          "output_type": "execute_result",
          "data": {
            "text/plain": [
              "Pipeline(memory=None,\n",
              "         steps=[('vect',\n",
              "                 CountVectorizer(analyzer='word', binary=False,\n",
              "                                 decode_error='strict',\n",
              "                                 dtype=<class 'numpy.int64'>, encoding='utf-8',\n",
              "                                 input='content', lowercase=True, max_df=1.0,\n",
              "                                 max_features=None, min_df=1,\n",
              "                                 ngram_range=(1, 1), preprocessor=None,\n",
              "                                 stop_words=None, strip_accents=None,\n",
              "                                 token_pattern='(?u)\\\\b\\\\w\\\\w+\\\\b',\n",
              "                                 tokenizer=None, vocabulary=None)),\n",
              "                ('tf',\n",
              "                 TfidfTransformer(norm='l2', smooth_idf=True,\n",
              "                                  sublinear_tf=False, use_idf=True)),\n",
              "                ('clf',\n",
              "                 MultinomialNB(alpha=1.0, class_prior=None, fit_prior=True))],\n",
              "         verbose=False)"
            ]
          },
          "metadata": {},
          "execution_count": 11
        }
      ]
    },
    {
      "cell_type": "markdown",
      "metadata": {
        "id": "YTi0mGQT8WxI"
      },
      "source": [
        "# Mess around and put whatever text you wanna classify here"
      ]
    },
    {
      "cell_type": "code",
      "metadata": {
        "colab": {
          "base_uri": "https://localhost:8080/"
        },
        "id": "gK73TYON6dKt",
        "outputId": "5b529136-763e-4d3d-dc20-b7c5e8c9fe8f"
      },
      "source": [
        "test_case = [\"What an amazing experience\", \"What are you doing today?\", \"okay man\", \"Wow that's great!\", \"really bad but okay i guess\"]\n",
        "X_new_counts = count_vect.transform(test_case)\n",
        "X_new_tfidf = tfidf_transformer.transform(X_new_counts)\n",
        "predicted = clf.predict(X_new_tfidf)\n",
        "print(predicted)"
      ],
      "execution_count": null,
      "outputs": [
        {
          "output_type": "stream",
          "name": "stdout",
          "text": [
            "['positive' 'neutral' 'neutral' 'positive' 'neutral']\n"
          ]
        }
      ]
    },
    {
      "cell_type": "markdown",
      "metadata": {
        "id": "0VlnEI-U_aBH"
      },
      "source": [
        "## Pipeline test"
      ]
    },
    {
      "cell_type": "code",
      "metadata": {
        "colab": {
          "base_uri": "https://localhost:8080/"
        },
        "id": "vfy_ZfIg_SQm",
        "outputId": "f578b499-e53b-45ba-f3d8-4cfb72feb073"
      },
      "source": [
        "predicted = text_clf.predict(test_case)\n",
        "print(predicted)"
      ],
      "execution_count": null,
      "outputs": [
        {
          "output_type": "stream",
          "name": "stdout",
          "text": [
            "['positive' 'neutral' 'neutral' 'negative' 'neutral']\n"
          ]
        }
      ]
    },
    {
      "cell_type": "markdown",
      "metadata": {
        "id": "9qHcwyBh8_et"
      },
      "source": [
        "# Test set"
      ]
    },
    {
      "cell_type": "code",
      "metadata": {
        "colab": {
          "base_uri": "https://localhost:8080/"
        },
        "id": "tEtP4LOO9A9h",
        "outputId": "0eaeec50-0534-44e4-a6e9-b451f8ebc2a7"
      },
      "source": [
        "test_data = pd.read_csv('https://raw.githubusercontent.com/FS-CSCI150-F21/FS-CSCI150-F21-Team4/main/datasets/test.csv')\n",
        "test_data = test_data.drop(columns=['textID'])\n",
        "print(test_data)"
      ],
      "execution_count": null,
      "outputs": [
        {
          "output_type": "stream",
          "name": "stdout",
          "text": [
            "                                                   text sentiment\n",
            "0     Last session of the day  http://twitpic.com/67ezh   neutral\n",
            "1      Shanghai is also really exciting (precisely -...  positive\n",
            "2     Recession hit Veronique Branquinho, she has to...  negative\n",
            "3                                           happy bday!  positive\n",
            "4                http://twitpic.com/4w75p - I like it!!  positive\n",
            "...                                                 ...       ...\n",
            "3529  its at 3 am, im very tired but i can`t sleep  ...  negative\n",
            "3530  All alone in this old house again.  Thanks for...  positive\n",
            "3531   I know what you mean. My little dog is sinkin...  negative\n",
            "3532  _sutra what is your next youtube video gonna b...  positive\n",
            "3533   http://twitpic.com/4woj2 - omgssh  ang cute n...  positive\n",
            "\n",
            "[3534 rows x 2 columns]\n"
          ]
        }
      ]
    },
    {
      "cell_type": "code",
      "metadata": {
        "colab": {
          "base_uri": "https://localhost:8080/"
        },
        "id": "W2e0DAIM-ZUi",
        "outputId": "2dbdfc81-8d47-4fb6-a2ee-0d7aad22c0bf"
      },
      "source": [
        "predicted = text_clf.predict(test_data[\"text\"])\n",
        "np.mean(predicted == test_data.sentiment)"
      ],
      "execution_count": null,
      "outputs": [
        {
          "output_type": "execute_result",
          "data": {
            "text/plain": [
              "0.6247877758913413"
            ]
          },
          "metadata": {},
          "execution_count": 15
        }
      ]
    },
    {
      "cell_type": "markdown",
      "metadata": {
        "id": "NGLOUHws_sAH"
      },
      "source": [
        "oof not good enough"
      ]
    },
    {
      "cell_type": "code",
      "metadata": {
        "colab": {
          "base_uri": "https://localhost:8080/"
        },
        "id": "1qsOPqcW_up8",
        "outputId": "b8970463-beef-4dbc-a941-2c3aa749ebcf"
      },
      "source": [
        "from sklearn.linear_model import SGDClassifier\n",
        "text_clf = Pipeline([\n",
        "  ('vect', CountVectorizer()),\n",
        "  ('tfidf', TfidfTransformer()),\n",
        "  ('clf', SGDClassifier()),\n",
        "])\n",
        "\n",
        "text_clf.fit(training_data.text, training_data.sentiment)\n",
        "predicted = text_clf.predict(test_data.text)\n",
        "np.mean(predicted == test_data.sentiment)"
      ],
      "execution_count": null,
      "outputs": [
        {
          "output_type": "execute_result",
          "data": {
            "text/plain": [
              "0.7091114883984154"
            ]
          },
          "metadata": {},
          "execution_count": 16
        }
      ]
    },
    {
      "cell_type": "code",
      "metadata": {
        "colab": {
          "base_uri": "https://localhost:8080/"
        },
        "id": "O8uVl2OxAQ1Z",
        "outputId": "36261194-de18-422a-84f3-19791a18e013"
      },
      "source": [
        "from sklearn import metrics\n",
        "print(metrics.classification_report(test_data.sentiment, predicted))"
      ],
      "execution_count": null,
      "outputs": [
        {
          "output_type": "stream",
          "name": "stdout",
          "text": [
            "              precision    recall  f1-score   support\n",
            "\n",
            "    negative       0.75      0.61      0.67      1001\n",
            "     neutral       0.64      0.76      0.70      1430\n",
            "    positive       0.80      0.72      0.76      1103\n",
            "\n",
            "    accuracy                           0.71      3534\n",
            "   macro avg       0.73      0.70      0.71      3534\n",
            "weighted avg       0.72      0.71      0.71      3534\n",
            "\n"
          ]
        }
      ]
    },
    {
      "cell_type": "code",
      "metadata": {
        "colab": {
          "base_uri": "https://localhost:8080/"
        },
        "id": "gV0IT2M6DH9Q",
        "outputId": "ad8ab1ec-823f-4c47-e646-b8836ed4199a"
      },
      "source": [
        "from sklearn.metrics import confusion_matrix\n",
        "confusion_matrix(test_data.sentiment, predicted)"
      ],
      "execution_count": null,
      "outputs": [
        {
          "output_type": "execute_result",
          "data": {
            "text/plain": [
              "array([[ 614,  349,   38],\n",
              "       [ 177, 1093,  160],\n",
              "       [  32,  272,  799]])"
            ]
          },
          "metadata": {},
          "execution_count": 18
        }
      ]
    },
    {
      "cell_type": "code",
      "metadata": {
        "id": "v0SIDNbJDolj"
      },
      "source": [
        "from sklearn.model_selection import GridSearchCV\n",
        "parameters = {\n",
        "  'vect__ngram_range': [(1, 1), (1, 2)],\n",
        "  'tfidf__use_idf': (True, False),\n",
        "  'clf__alpha': (1e-2, 1e-3),\n",
        "}\n",
        "gs_clf = GridSearchCV(text_clf, parameters, cv=5, n_jobs=-1)"
      ],
      "execution_count": null,
      "outputs": []
    },
    {
      "cell_type": "code",
      "metadata": {
        "id": "sHWIvVfWD-xk"
      },
      "source": [
        " #gs_clf = gs_clf.fit(training_data.text, training_data.sentiment)"
      ],
      "execution_count": null,
      "outputs": []
    },
    {
      "cell_type": "code",
      "metadata": {
        "id": "-qeCRbrnENte"
      },
      "source": [
        "#print(gs_clf.best_score_)\n",
        "#for param_name in sorted(parameters.keys()):\n",
        "  #print(\"%s: %r\" % (param_name, gs_clf.best_params_[param_name]))"
      ],
      "execution_count": null,
      "outputs": []
    },
    {
      "cell_type": "markdown",
      "metadata": {
        "id": "8r-INGYDBgxn"
      },
      "source": [
        ""
      ]
    },
    {
      "cell_type": "code",
      "metadata": {
        "colab": {
          "base_uri": "https://localhost:8080/"
        },
        "id": "-0SnU62SBf8M",
        "outputId": "bc266ad7-c8f3-4bb7-9d0e-8b59e470e6d1"
      },
      "source": [
        "from sklearn.linear_model import LogisticRegression\n",
        "text_clf = Pipeline([\n",
        "  ('vect', CountVectorizer()),\n",
        "  ('tf', TfidfTransformer()),\n",
        "  ('clf', LogisticRegression(max_iter=1000)),\n",
        "])\n",
        "\n",
        "text_clf.fit(training_data.text, training_data.sentiment)\n",
        "predicted = text_clf.predict(test_data.text)\n",
        "np.mean(predicted == test_data.sentiment)"
      ],
      "execution_count": null,
      "outputs": [
        {
          "output_type": "execute_result",
          "data": {
            "text/plain": [
              "0.7071307300509337"
            ]
          },
          "metadata": {},
          "execution_count": 22
        }
      ]
    },
    {
      "cell_type": "code",
      "metadata": {
        "colab": {
          "base_uri": "https://localhost:8080/"
        },
        "id": "bNb86cICBf8N",
        "outputId": "afe9352c-9c3b-413c-8d0a-a7e623abe7f7"
      },
      "source": [
        "from sklearn import metrics\n",
        "print(metrics.classification_report(test_data.sentiment, predicted))"
      ],
      "execution_count": null,
      "outputs": [
        {
          "output_type": "stream",
          "name": "stdout",
          "text": [
            "              precision    recall  f1-score   support\n",
            "\n",
            "    negative       0.73      0.64      0.69      1001\n",
            "     neutral       0.64      0.75      0.69      1430\n",
            "    positive       0.80      0.71      0.75      1103\n",
            "\n",
            "    accuracy                           0.71      3534\n",
            "   macro avg       0.72      0.70      0.71      3534\n",
            "weighted avg       0.72      0.71      0.71      3534\n",
            "\n"
          ]
        }
      ]
    }
  ]
}